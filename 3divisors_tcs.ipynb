{
  "nbformat": 4,
  "nbformat_minor": 0,
  "metadata": {
    "colab": {
      "provenance": [],
      "authorship_tag": "ABX9TyNfZbZ3EEm32u8lYFaZFhR1",
      "include_colab_link": true
    },
    "kernelspec": {
      "name": "python3",
      "display_name": "Python 3"
    },
    "language_info": {
      "name": "python"
    }
  },
  "cells": [
    {
      "cell_type": "markdown",
      "metadata": {
        "id": "view-in-github",
        "colab_type": "text"
      },
      "source": [
        "<a href=\"https://colab.research.google.com/github/Swarup0909/Python-Problem_Solving_top_100_codes/blob/main/3divisors_tcs.ipynb\" target=\"_parent\"><img src=\"https://colab.research.google.com/assets/colab-badge.svg\" alt=\"Open In Colab\"/></a>"
      ]
    },
    {
      "cell_type": "code",
      "execution_count": 24,
      "metadata": {
        "id": "xaQotZrmeuhP"
      },
      "outputs": [],
      "source": [
        "import math\n",
        "def threedivisors(query,q):\n",
        "  max_n = max(query)\n",
        "  limit = int(math.sqrt(max_n))+1\n",
        "\n",
        "  is_prime = [True] * (limit +1 )\n",
        "  is_prime[0] = is_prime[1] = False #0,1 are not prime\n",
        "\n",
        "  for num in range(2,int(math.sqrt(limit)) +1):\n",
        "    if is_prime[num]:\n",
        "      for multiple in range(num * num , limit + 1,num): #making non prime number false\n",
        "        is_prime[multiple] = False\n",
        "\n",
        "  primes = [num for num, prime in enumerate(is_prime) if prime] # lis of primes\n",
        "\n",
        "  squares_of_prime = [p * p for p in primes if p * p <= max_n ]\n",
        "\n",
        "#  for each query, count how many squares are present\n",
        "  results = []\n",
        "  for n in query:\n",
        "    count = sum(1 for square in squares_of_prime if square <= n)  # Count valid squares\n",
        "    results.append(count)\n",
        "\n",
        "  return results\n"
      ]
    },
    {
      "cell_type": "code",
      "source": [
        "\n",
        "queries = [6, 10]\n",
        "print(threedivisors(queries, len(queries)))  # Output: [1, 2]"
      ],
      "metadata": {
        "colab": {
          "base_uri": "https://localhost:8080/"
        },
        "id": "IX1xFbFPjwrE",
        "outputId": "87dc69cb-5d06-4d26-8e05-ddcf9da0278c"
      },
      "execution_count": 25,
      "outputs": [
        {
          "output_type": "stream",
          "name": "stdout",
          "text": [
            "[1, 2]\n"
          ]
        }
      ]
    }
  ]
}