{
  "nbformat": 4,
  "nbformat_minor": 0,
  "metadata": {
    "colab": {
      "provenance": [],
      "authorship_tag": "ABX9TyNKJtck2RVKqZNNs9C3SqEe",
      "include_colab_link": true
    },
    "kernelspec": {
      "name": "python3",
      "display_name": "Python 3"
    },
    "language_info": {
      "name": "python"
    }
  },
  "cells": [
    {
      "cell_type": "markdown",
      "metadata": {
        "id": "view-in-github",
        "colab_type": "text"
      },
      "source": [
        "<a href=\"https://colab.research.google.com/github/Swarup0909/Python-Problem_Solving_top_100_codes/blob/main/is_prime.ipynb\" target=\"_parent\"><img src=\"https://colab.research.google.com/assets/colab-badge.svg\" alt=\"Open In Colab\"/></a>"
      ]
    },
    {
      "cell_type": "code",
      "execution_count": 2,
      "metadata": {
        "colab": {
          "base_uri": "https://localhost:8080/"
        },
        "id": "wr1uiSIYsUKp",
        "outputId": "085afebe-eb27-4441-d733-061ee66bea63"
      },
      "outputs": [
        {
          "output_type": "stream",
          "name": "stdout",
          "text": [
            "NO\n"
          ]
        }
      ],
      "source": [
        "def is_prime(number):\n",
        "    if number <= 1:\n",
        "        return print(\"NO\")\n",
        "    if number == 2 or number == 3:\n",
        "        return print(\"YES\")\n",
        "    if number % 2 == 0 or number % 3 == 0:\n",
        "        return print(\"NO\")\n",
        "    i = 5\n",
        "    while i * i <= number:\n",
        "        if number % i == 0 or number % (i + 2) == 0:\n",
        "            return print(\"NO\")\n",
        "        i += 6\n",
        "    return print(\"YES\")\n",
        "\n",
        "is_prime(35)"
      ]
    },
    {
      "cell_type": "code",
      "source": [
        "is_prime(47)"
      ],
      "metadata": {
        "colab": {
          "base_uri": "https://localhost:8080/"
        },
        "id": "UV96t_t7sgLm",
        "outputId": "797829e9-f7b6-41c7-c8cd-712be940c173"
      },
      "execution_count": 3,
      "outputs": [
        {
          "output_type": "stream",
          "name": "stdout",
          "text": [
            "YES\n"
          ]
        }
      ]
    },
    {
      "cell_type": "code",
      "source": [
        "is_prime(1)"
      ],
      "metadata": {
        "colab": {
          "base_uri": "https://localhost:8080/"
        },
        "id": "_Ijeh_9TsjCz",
        "outputId": "8b1494b8-f89e-42c5-a971-96b07e7c1a8f"
      },
      "execution_count": 4,
      "outputs": [
        {
          "output_type": "stream",
          "name": "stdout",
          "text": [
            "NO\n"
          ]
        }
      ]
    },
    {
      "cell_type": "code",
      "source": [
        "is_prime(23)"
      ],
      "metadata": {
        "colab": {
          "base_uri": "https://localhost:8080/"
        },
        "id": "4_OvsXP3smIz",
        "outputId": "b47e164d-444f-4606-8fbe-7b9fa5fbfc0a"
      },
      "execution_count": 5,
      "outputs": [
        {
          "output_type": "stream",
          "name": "stdout",
          "text": [
            "YES\n"
          ]
        }
      ]
    },
    {
      "cell_type": "code",
      "source": [],
      "metadata": {
        "id": "jGB2UelzsohC"
      },
      "execution_count": null,
      "outputs": []
    }
  ]
}