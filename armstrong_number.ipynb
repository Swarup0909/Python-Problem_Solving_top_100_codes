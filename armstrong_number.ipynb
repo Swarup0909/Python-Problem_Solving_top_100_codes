{
  "nbformat": 4,
  "nbformat_minor": 0,
  "metadata": {
    "colab": {
      "provenance": [],
      "authorship_tag": "ABX9TyPakzUp+5XJOirA0s+Qo4gn",
      "include_colab_link": true
    },
    "kernelspec": {
      "name": "python3",
      "display_name": "Python 3"
    },
    "language_info": {
      "name": "python"
    }
  },
  "cells": [
    {
      "cell_type": "markdown",
      "metadata": {
        "id": "view-in-github",
        "colab_type": "text"
      },
      "source": [
        "<a href=\"https://colab.research.google.com/github/Swarup0909/Python-Problem_Solving_top_100_codes/blob/main/armstrong_number.ipynb\" target=\"_parent\"><img src=\"https://colab.research.google.com/assets/colab-badge.svg\" alt=\"Open In Colab\"/></a>"
      ]
    },
    {
      "cell_type": "code",
      "execution_count": 19,
      "metadata": {
        "id": "Wpz_d2w7suc9"
      },
      "outputs": [],
      "source": [
        "def armstrong_number(n):\n",
        "  sum = 0\n",
        "  temp = n\n",
        "  while temp>0:\n",
        "    last_digit = temp%10\n",
        "    temp = temp//10\n",
        "    sum = sum+(last_digit*last_digit*last_digit)\n",
        "  if (sum == n):\n",
        "   print(\"Yes\")\n",
        "  else:\n",
        "   print(\"No\")"
      ]
    },
    {
      "cell_type": "code",
      "source": [],
      "metadata": {
        "id": "3311dhpJwPHo"
      },
      "execution_count": null,
      "outputs": []
    },
    {
      "cell_type": "code",
      "source": [
        "print(armstrong_number(1))"
      ],
      "metadata": {
        "colab": {
          "base_uri": "https://localhost:8080/"
        },
        "id": "48W4kSQLvCj-",
        "outputId": "f9f7fdcd-dca4-453d-92cd-6cef47c229fd"
      },
      "execution_count": 20,
      "outputs": [
        {
          "output_type": "stream",
          "name": "stdout",
          "text": [
            "Yes\n",
            "None\n"
          ]
        }
      ]
    },
    {
      "cell_type": "code",
      "source": [
        "print(armstrong_number(123))"
      ],
      "metadata": {
        "colab": {
          "base_uri": "https://localhost:8080/"
        },
        "id": "eI6B4mfovpSs",
        "outputId": "7a4f5910-8103-4f37-a30c-e52bcd4a1457"
      },
      "execution_count": 21,
      "outputs": [
        {
          "output_type": "stream",
          "name": "stdout",
          "text": [
            "No\n",
            "None\n"
          ]
        }
      ]
    },
    {
      "cell_type": "code",
      "source": [
        "print(armstrong_number(372))"
      ],
      "metadata": {
        "colab": {
          "base_uri": "https://localhost:8080/"
        },
        "id": "10MCwY3yvtvP",
        "outputId": "f5effd61-0504-4b15-c018-c7fa3c015d1d"
      },
      "execution_count": 22,
      "outputs": [
        {
          "output_type": "stream",
          "name": "stdout",
          "text": [
            "No\n",
            "None\n"
          ]
        }
      ]
    },
    {
      "cell_type": "code",
      "source": [
        "print(armstrong_number(153))"
      ],
      "metadata": {
        "colab": {
          "base_uri": "https://localhost:8080/"
        },
        "id": "8EdIAEN-vxTk",
        "outputId": "810ff989-7755-440f-f411-77b8c8bfb675"
      },
      "execution_count": 23,
      "outputs": [
        {
          "output_type": "stream",
          "name": "stdout",
          "text": [
            "Yes\n",
            "None\n"
          ]
        }
      ]
    },
    {
      "cell_type": "code",
      "source": [
        "#Another method\n",
        "def arm_number(n):\n",
        "  sum = 0\n",
        "  temp = n\n",
        "  num_digits = len(str(n))\n",
        "  for i in range(num_digits):\n",
        "    last_digit = temp % 10\n",
        "    sum += last_digit * last_digit * last_digit\n",
        "    temp = temp//10\n",
        "  if sum == n:\n",
        "    print(\"Yes\")\n",
        "  else:\n",
        "    print(\"No\")"
      ],
      "metadata": {
        "id": "35p4tKg7v1SJ"
      },
      "execution_count": 30,
      "outputs": []
    },
    {
      "cell_type": "code",
      "source": [
        "arm_number(1)"
      ],
      "metadata": {
        "colab": {
          "base_uri": "https://localhost:8080/"
        },
        "id": "Ax1c6wLny0c8",
        "outputId": "383e352e-dc10-4454-f07b-8634afe30231"
      },
      "execution_count": 31,
      "outputs": [
        {
          "output_type": "stream",
          "name": "stdout",
          "text": [
            "Yes\n"
          ]
        }
      ]
    },
    {
      "cell_type": "code",
      "source": [
        "arm_number(153)"
      ],
      "metadata": {
        "colab": {
          "base_uri": "https://localhost:8080/"
        },
        "id": "1i0URyzey2ic",
        "outputId": "6391b459-f6e2-4385-9f21-91332ee3418f"
      },
      "execution_count": 32,
      "outputs": [
        {
          "output_type": "stream",
          "name": "stdout",
          "text": [
            "Yes\n"
          ]
        }
      ]
    },
    {
      "cell_type": "code",
      "source": [
        "arm_number(10)"
      ],
      "metadata": {
        "colab": {
          "base_uri": "https://localhost:8080/"
        },
        "id": "jpu2InWfzgHU",
        "outputId": "98ec7bc4-9ea7-4f83-edaa-8c132a196dc1"
      },
      "execution_count": 33,
      "outputs": [
        {
          "output_type": "stream",
          "name": "stdout",
          "text": [
            "No\n"
          ]
        }
      ]
    },
    {
      "cell_type": "code",
      "source": [],
      "metadata": {
        "id": "CHD31q4yzhXP"
      },
      "execution_count": null,
      "outputs": []
    }
  ]
}