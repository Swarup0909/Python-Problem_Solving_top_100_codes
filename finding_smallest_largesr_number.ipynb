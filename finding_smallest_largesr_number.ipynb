{
  "nbformat": 4,
  "nbformat_minor": 0,
  "metadata": {
    "colab": {
      "provenance": [],
      "authorship_tag": "ABX9TyPkpICAdgFf7fAVVZRYyyqn",
      "include_colab_link": true
    },
    "kernelspec": {
      "name": "python3",
      "display_name": "Python 3"
    },
    "language_info": {
      "name": "python"
    }
  },
  "cells": [
    {
      "cell_type": "markdown",
      "metadata": {
        "id": "view-in-github",
        "colab_type": "text"
      },
      "source": [
        "<a href=\"https://colab.research.google.com/github/Swarup0909/Python-Problem_Solving_top_100_codes/blob/main/finding_smallest_largesr_number.ipynb\" target=\"_parent\"><img src=\"https://colab.research.google.com/assets/colab-badge.svg\" alt=\"Open In Colab\"/></a>"
      ]
    },
    {
      "cell_type": "markdown",
      "source": [
        "Problem No 1 :Finding smallest and largest number in given array"
      ],
      "metadata": {
        "id": "zPkBvppVGzFs"
      }
    },
    {
      "cell_type": "code",
      "execution_count": 1,
      "metadata": {
        "id": "l7fVj7tzGYzc"
      },
      "outputs": [],
      "source": [
        "import numpy as np\n",
        "import pandas as pd"
      ]
    },
    {
      "cell_type": "code",
      "source": [
        "array = [1,2,3,4,5,6]"
      ],
      "metadata": {
        "id": "cg_L7o0IGrhK"
      },
      "execution_count": 2,
      "outputs": []
    },
    {
      "cell_type": "code",
      "source": [
        "print(array)"
      ],
      "metadata": {
        "colab": {
          "base_uri": "https://localhost:8080/"
        },
        "id": "ZXRVkDBYHHwe",
        "outputId": "40cf22e9-90ae-4408-d91a-de3de7504a8b"
      },
      "execution_count": 3,
      "outputs": [
        {
          "output_type": "stream",
          "name": "stdout",
          "text": [
            "[1, 2, 3, 4, 5, 6]\n"
          ]
        }
      ]
    },
    {
      "cell_type": "code",
      "source": [
        "print(type(array))"
      ],
      "metadata": {
        "colab": {
          "base_uri": "https://localhost:8080/"
        },
        "id": "TbSRBCFbHJ3Z",
        "outputId": "07b31538-abc7-4d6e-e0d6-ce7b36417a06"
      },
      "execution_count": 4,
      "outputs": [
        {
          "output_type": "stream",
          "name": "stdout",
          "text": [
            "<class 'list'>\n"
          ]
        }
      ]
    },
    {
      "cell_type": "code",
      "source": [
        "#converting list ot array"
      ],
      "metadata": {
        "id": "4A5rMe8jHNOR"
      },
      "execution_count": 5,
      "outputs": []
    },
    {
      "cell_type": "code",
      "source": [
        "array1 = np.array(array)"
      ],
      "metadata": {
        "id": "SC4112dKHRxc"
      },
      "execution_count": 6,
      "outputs": []
    },
    {
      "cell_type": "code",
      "source": [
        "print(type(array1))"
      ],
      "metadata": {
        "colab": {
          "base_uri": "https://localhost:8080/"
        },
        "id": "fHmA0D7VHWVp",
        "outputId": "c3bcda4d-1cbe-4233-d0c6-f32cf43c2666"
      },
      "execution_count": 7,
      "outputs": [
        {
          "output_type": "stream",
          "name": "stdout",
          "text": [
            "<class 'numpy.ndarray'>\n"
          ]
        }
      ]
    },
    {
      "cell_type": "code",
      "source": [
        "import array"
      ],
      "metadata": {
        "id": "pzMtjcN8HZdn"
      },
      "execution_count": 8,
      "outputs": []
    },
    {
      "cell_type": "code",
      "source": [
        "## creating specific array module"
      ],
      "metadata": {
        "id": "OfPEH-K5Ht7V"
      },
      "execution_count": 10,
      "outputs": []
    },
    {
      "cell_type": "code",
      "source": [
        "array2 = array.array(\"i\",[1,2,3,4,5])"
      ],
      "metadata": {
        "id": "G7qfByvZH0Qz"
      },
      "execution_count": 13,
      "outputs": []
    },
    {
      "cell_type": "code",
      "source": [
        "print(type(array2))"
      ],
      "metadata": {
        "colab": {
          "base_uri": "https://localhost:8080/"
        },
        "id": "DpwVtY-DH91z",
        "outputId": "41db652d-8648-4fb4-c0e4-ab1229eafef2"
      },
      "execution_count": 14,
      "outputs": [
        {
          "output_type": "stream",
          "name": "stdout",
          "text": [
            "<class 'array.array'>\n"
          ]
        }
      ]
    },
    {
      "cell_type": "code",
      "source": [
        "#.function to get smallest and largest element in array\n",
        "def find_min_max(numbers):\n",
        "    if not numbers:  # Check if the list is empty\n",
        "        return None, None  # Return None for both if the list is empty\n",
        "\n",
        "    # Initialize the smallest and largest variables with the first element of the list\n",
        "    smallest = largest = numbers[0]\n",
        "\n",
        "    # Iterate through the list to find the smallest and largest numbers\n",
        "    for num in numbers[1:]:\n",
        "        if num < smallest:\n",
        "            smallest = num\n",
        "        if num > largest:\n",
        "            largest = num\n",
        "\n",
        "    return smallest, largest"
      ],
      "metadata": {
        "id": "Prroc9ytIPXK"
      },
      "execution_count": 30,
      "outputs": []
    },
    {
      "cell_type": "code",
      "source": [
        "\n",
        "# Example usage\n",
        "numbers = [34, 12, 56, 78, 23, 89, 5, 67]\n",
        "min_num, max_num = find_min_max(numbers)\n",
        "\n",
        "print(\"Smallest number:\", min_num)\n",
        "print(\"Largest number:\", max_num)"
      ],
      "metadata": {
        "colab": {
          "base_uri": "https://localhost:8080/"
        },
        "id": "fojoC_xhIbL4",
        "outputId": "280dc104-84f8-435b-e6d1-a33d3c12090a"
      },
      "execution_count": 31,
      "outputs": [
        {
          "output_type": "stream",
          "name": "stdout",
          "text": [
            "Smallest number: 5\n",
            "Largest number: 89\n"
          ]
        }
      ]
    },
    {
      "cell_type": "code",
      "source": [
        "\n",
        "\n"
      ],
      "metadata": {
        "id": "nG8zUPd0Jgrr"
      },
      "execution_count": 31,
      "outputs": []
    },
    {
      "cell_type": "code",
      "source": [],
      "metadata": {
        "id": "yrrW-LuNL4lc"
      },
      "execution_count": null,
      "outputs": []
    }
  ]
}