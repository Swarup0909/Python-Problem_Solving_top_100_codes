{
  "nbformat": 4,
  "nbformat_minor": 0,
  "metadata": {
    "colab": {
      "provenance": [],
      "authorship_tag": "ABX9TyN14FtmuztS+bo/6J8CuYUz",
      "include_colab_link": true
    },
    "kernelspec": {
      "name": "python3",
      "display_name": "Python 3"
    },
    "language_info": {
      "name": "python"
    }
  },
  "cells": [
    {
      "cell_type": "markdown",
      "metadata": {
        "id": "view-in-github",
        "colab_type": "text"
      },
      "source": [
        "<a href=\"https://colab.research.google.com/github/Swarup0909/Python-Problem_Solving_top_100_codes/blob/main/is_leap_year.ipynb\" target=\"_parent\"><img src=\"https://colab.research.google.com/assets/colab-badge.svg\" alt=\"Open In Colab\"/></a>"
      ]
    },
    {
      "cell_type": "code",
      "execution_count": 4,
      "metadata": {
        "colab": {
          "base_uri": "https://localhost:8080/"
        },
        "id": "0LsJ9EtOs6yX",
        "outputId": "2a334770-b39b-40af-a4fb-1bce81045ebe"
      },
      "outputs": [
        {
          "output_type": "stream",
          "name": "stdout",
          "text": [
            "yes\n"
          ]
        }
      ],
      "source": [
        "def is_leap(year):\n",
        "  if((year % 400 == 0) or (year % 100 != 0) and (year % 4 == 0 )):\n",
        "    print(\"yes\")\n",
        "  else:\n",
        "    print(\"NO\")\n",
        "is_leap(2020)"
      ]
    },
    {
      "cell_type": "code",
      "source": [
        "def is_leap_ad(year):\n",
        "  print(\"YES\" if((year % 400 == 0) or (year % 100 != 0) and (year % 4 == 0 )) else \"NO\")\n",
        "is_leap_ad(2002)"
      ],
      "metadata": {
        "colab": {
          "base_uri": "https://localhost:8080/"
        },
        "id": "GqVRTMeatnP3",
        "outputId": "2c496b46-5bbc-404c-8517-cf25210afe52"
      },
      "execution_count": 6,
      "outputs": [
        {
          "output_type": "stream",
          "name": "stdout",
          "text": [
            "NO\n"
          ]
        }
      ]
    },
    {
      "cell_type": "code",
      "source": [
        "is_leap_ad(2020)"
      ],
      "metadata": {
        "colab": {
          "base_uri": "https://localhost:8080/"
        },
        "id": "XpFcISK6t7uo",
        "outputId": "2bdfa8d6-37e0-44ae-989b-e995b6d16f13"
      },
      "execution_count": 7,
      "outputs": [
        {
          "output_type": "stream",
          "name": "stdout",
          "text": [
            "YES\n"
          ]
        }
      ]
    },
    {
      "cell_type": "code",
      "source": [],
      "metadata": {
        "id": "iCUYJ4Zmt9sl"
      },
      "execution_count": null,
      "outputs": []
    }
  ]
}