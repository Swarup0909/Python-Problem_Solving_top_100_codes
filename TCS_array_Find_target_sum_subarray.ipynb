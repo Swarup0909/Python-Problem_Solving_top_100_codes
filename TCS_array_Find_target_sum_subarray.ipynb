{
  "nbformat": 4,
  "nbformat_minor": 0,
  "metadata": {
    "colab": {
      "provenance": [],
      "authorship_tag": "ABX9TyNQRY86zZrJeTJf75WaHJct",
      "include_colab_link": true
    },
    "kernelspec": {
      "name": "python3",
      "display_name": "Python 3"
    },
    "language_info": {
      "name": "python"
    }
  },
  "cells": [
    {
      "cell_type": "markdown",
      "metadata": {
        "id": "view-in-github",
        "colab_type": "text"
      },
      "source": [
        "<a href=\"https://colab.research.google.com/github/Swarup0909/Python-Problem_Solving_top_100_codes/blob/main/TCS_array_Find_target_sum_subarray.ipynb\" target=\"_parent\"><img src=\"https://colab.research.google.com/assets/colab-badge.svg\" alt=\"Open In Colab\"/></a>"
      ]
    },
    {
      "cell_type": "code",
      "execution_count": 1,
      "metadata": {
        "id": "SwjU_ucnSl7y"
      },
      "outputs": [],
      "source": [
        "import numpy as np\n",
        "import pandas as pd"
      ]
    },
    {
      "cell_type": "code",
      "source": [
        "def optimalApp (arr,target):\n",
        "  sumMap = {}\n",
        "  curSum = 0\n",
        "  n = len(arr)\n",
        "  for i in range(n):\n",
        "    curSum += arr[i]\n",
        "    if curSum == target:\n",
        "      print(arr[:i+1])\n",
        "    if curSum - target in sumMap:\n",
        "      startIndex = sumMap[curSum - target]+1\n",
        "      print(arr[startIndex : i])\n",
        "    sumMap[curSum] = i"
      ],
      "metadata": {
        "id": "Mbqi-QDXSuvy"
      },
      "execution_count": 12,
      "outputs": []
    },
    {
      "cell_type": "code",
      "source": [],
      "metadata": {
        "id": "FDcEAHIueqps"
      },
      "execution_count": null,
      "outputs": []
    },
    {
      "cell_type": "code",
      "source": [
        "optimalApp([3,4,-7,1,3,3],7)"
      ],
      "metadata": {
        "colab": {
          "base_uri": "https://localhost:8080/"
        },
        "id": "66NSZOA9cy26",
        "outputId": "ef0a70a0-0585-4d06-eeb6-8bfeefd1cacc"
      },
      "execution_count": 13,
      "outputs": [
        {
          "output_type": "stream",
          "name": "stdout",
          "text": [
            "[3, 4]\n",
            "[3, 4, -7, 1, 3, 3]\n",
            "[1, 3]\n"
          ]
        }
      ]
    },
    {
      "cell_type": "code",
      "source": [],
      "metadata": {
        "id": "7PTA3h2veOOo"
      },
      "execution_count": null,
      "outputs": []
    }
  ]
}