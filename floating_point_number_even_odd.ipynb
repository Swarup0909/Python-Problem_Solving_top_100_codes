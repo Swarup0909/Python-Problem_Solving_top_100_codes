{
  "nbformat": 4,
  "nbformat_minor": 0,
  "metadata": {
    "colab": {
      "provenance": [],
      "authorship_tag": "ABX9TyN/K7aPmbjx+jOKKKCrgMpN",
      "include_colab_link": true
    },
    "kernelspec": {
      "name": "python3",
      "display_name": "Python 3"
    },
    "language_info": {
      "name": "python"
    }
  },
  "cells": [
    {
      "cell_type": "markdown",
      "metadata": {
        "id": "view-in-github",
        "colab_type": "text"
      },
      "source": [
        "<a href=\"https://colab.research.google.com/github/Swarup0909/Python-Problem_Solving_top_100_codes/blob/main/floating_point_number_even_odd.ipynb\" target=\"_parent\"><img src=\"https://colab.research.google.com/assets/colab-badge.svg\" alt=\"Open In Colab\"/></a>"
      ]
    },
    {
      "cell_type": "code",
      "execution_count": 13,
      "metadata": {
        "id": "8J64Am9YuO73"
      },
      "outputs": [],
      "source": [
        "def is_odd_even(s):\n",
        "  l = len(s)\n",
        "  dotseen = False\n",
        "  for i in range(l-1,-1,-1):\n",
        "    # to ignore zeros in sting\n",
        "    if (s[i] == 'O' and dotseen == False):\n",
        "      continue\n",
        "    # check for \".\" in sting and travsers more after . to get digit after \".\"\n",
        "    if (s[i] == \".\" and dotseen == False):\n",
        "      dotseen == True\n",
        "      continue\n",
        "    # to check digit after \".\" is even or odd\n",
        "    if ((int)(s[i]) % 2 == 0):\n",
        "      return True\n",
        "    else:\n",
        "      return False"
      ]
    },
    {
      "cell_type": "code",
      "source": [
        "is_odd_even(\"100.7\")"
      ],
      "metadata": {
        "colab": {
          "base_uri": "https://localhost:8080/"
        },
        "id": "BXPhixCJMRZ_",
        "outputId": "a39605a7-e677-40dd-8b13-88aca0f18387"
      },
      "execution_count": 18,
      "outputs": [
        {
          "output_type": "execute_result",
          "data": {
            "text/plain": [
              "False"
            ]
          },
          "metadata": {},
          "execution_count": 18
        }
      ]
    },
    {
      "cell_type": "code",
      "source": [
        "is_odd_even(\"97.7\")"
      ],
      "metadata": {
        "colab": {
          "base_uri": "https://localhost:8080/"
        },
        "id": "5ic3h4IsMVyw",
        "outputId": "d5aefdb5-c560-489f-b050-e17be704cfdd"
      },
      "execution_count": 21,
      "outputs": [
        {
          "output_type": "execute_result",
          "data": {
            "text/plain": [
              "False"
            ]
          },
          "metadata": {},
          "execution_count": 21
        }
      ]
    },
    {
      "cell_type": "code",
      "source": [
        "is_odd_even(\"97.8000\")"
      ],
      "metadata": {
        "colab": {
          "base_uri": "https://localhost:8080/"
        },
        "id": "PwshRlewMivz",
        "outputId": "20b6781e-cc18-4068-81bc-9e55f223e7ad"
      },
      "execution_count": 20,
      "outputs": [
        {
          "output_type": "execute_result",
          "data": {
            "text/plain": [
              "True"
            ]
          },
          "metadata": {},
          "execution_count": 20
        }
      ]
    },
    {
      "cell_type": "code",
      "source": [],
      "metadata": {
        "id": "d-lXYuiQM4Sj"
      },
      "execution_count": null,
      "outputs": []
    }
  ]
}